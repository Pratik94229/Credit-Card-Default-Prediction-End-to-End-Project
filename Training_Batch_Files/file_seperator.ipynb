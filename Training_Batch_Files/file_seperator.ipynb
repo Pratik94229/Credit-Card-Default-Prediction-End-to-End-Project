{
 "cells": [
  {
   "cell_type": "code",
   "execution_count": 1,
   "metadata": {},
   "outputs": [],
   "source": [
    "import pandas as pd\n",
    "data=pd.read_csv('creditCardFraud.csv')\n",
    "\n",
    "date = 28011960\n",
    "time = 120210\n",
    "i=0\n",
    "\n",
    "\n",
    "for j in range(0,31):\n",
    "    new = data.iloc[i:i+1001]\n",
    "    name = \"creditCardFraud_\" +str(date) + '_' + str(time) + \".csv\"\n",
    "    new.to_csv(name, index=None, header=True)\n",
    "    i += 1\n",
    "    date+=1\n",
    "    time+=1"
   ]
  },
  {
   "cell_type": "code",
   "execution_count": null,
   "metadata": {},
   "outputs": [],
   "source": []
  }
 ],
 "metadata": {
  "kernelspec": {
   "display_name": "Python 3",
   "language": "python",
   "name": "python3"
  },
  "language_info": {
   "codemirror_mode": {
    "name": "ipython",
    "version": 3
   },
   "file_extension": ".py",
   "mimetype": "text/x-python",
   "name": "python",
   "nbconvert_exporter": "python",
   "pygments_lexer": "ipython3",
   "version": "3.7.3"
  }
 },
 "nbformat": 4,
 "nbformat_minor": 4
}
